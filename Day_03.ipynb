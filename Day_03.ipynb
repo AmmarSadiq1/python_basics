{
 "cells": [
  {
   "cell_type": "markdown",
   "id": "c5d61b61",
   "metadata": {},
   "source": [
    "# Data_Science_with_Professor_Ammar\n",
    "## Python\n",
    "### *Day_3a*"
   ]
  },
  {
   "cell_type": "markdown",
   "id": "2e7bf55e",
   "metadata": {},
   "source": [
    "# -Indexing"
   ]
  },
  {
   "cell_type": "code",
   "execution_count": 1,
   "id": "e01971f5",
   "metadata": {},
   "outputs": [
    {
     "data": {
      "text/plain": [
       "'Chilli milli'"
      ]
     },
     "execution_count": 1,
     "metadata": {},
     "output_type": "execute_result"
    }
   ],
   "source": [
    "a=\"Chilli milli\"\n",
    "a"
   ]
  },
  {
   "cell_type": "code",
   "execution_count": 2,
   "id": "76b8a1c6",
   "metadata": {},
   "outputs": [
    {
     "data": {
      "text/plain": [
       "'C'"
      ]
     },
     "execution_count": 2,
     "metadata": {},
     "output_type": "execute_result"
    }
   ],
   "source": [
    "a[0]"
   ]
  },
  {
   "cell_type": "code",
   "execution_count": 3,
   "id": "0c0e1d97",
   "metadata": {},
   "outputs": [
    {
     "data": {
      "text/plain": [
       "'i'"
      ]
     },
     "execution_count": 3,
     "metadata": {},
     "output_type": "execute_result"
    }
   ],
   "source": [
    "a[5]"
   ]
  },
  {
   "cell_type": "code",
   "execution_count": 4,
   "id": "67ea22e0",
   "metadata": {},
   "outputs": [
    {
     "data": {
      "text/plain": [
       "' '"
      ]
     },
     "execution_count": 4,
     "metadata": {},
     "output_type": "execute_result"
    }
   ],
   "source": [
    "a[6]"
   ]
  },
  {
   "cell_type": "code",
   "execution_count": 5,
   "id": "c5e0d0dd",
   "metadata": {},
   "outputs": [
    {
     "data": {
      "text/plain": [
       "12"
      ]
     },
     "execution_count": 5,
     "metadata": {},
     "output_type": "execute_result"
    }
   ],
   "source": [
    "len(a)"
   ]
  },
  {
   "cell_type": "code",
   "execution_count": 6,
   "id": "7036bca5",
   "metadata": {},
   "outputs": [
    {
     "data": {
      "text/plain": [
       "'i'"
      ]
     },
     "execution_count": 6,
     "metadata": {},
     "output_type": "execute_result"
    }
   ],
   "source": [
    "a[11]"
   ]
  },
  {
   "cell_type": "code",
   "execution_count": 7,
   "id": "ed2f2b59",
   "metadata": {},
   "outputs": [
    {
     "data": {
      "text/plain": [
       "'Chill'"
      ]
     },
     "execution_count": 7,
     "metadata": {},
     "output_type": "execute_result"
    }
   ],
   "source": [
    "#Last index is exclusive\n",
    "a[0:5]"
   ]
  },
  {
   "cell_type": "code",
   "execution_count": 8,
   "id": "d7bd5dd4",
   "metadata": {},
   "outputs": [
    {
     "data": {
      "text/plain": [
       "'Chilli'"
      ]
     },
     "execution_count": 8,
     "metadata": {},
     "output_type": "execute_result"
    }
   ],
   "source": [
    "a[0:6]"
   ]
  },
  {
   "cell_type": "code",
   "execution_count": 9,
   "id": "4820966b",
   "metadata": {},
   "outputs": [
    {
     "data": {
      "text/plain": [
       "'i'"
      ]
     },
     "execution_count": 9,
     "metadata": {},
     "output_type": "execute_result"
    }
   ],
   "source": [
    "a[-1]"
   ]
  },
  {
   "cell_type": "code",
   "execution_count": 10,
   "id": "aac2e539",
   "metadata": {},
   "outputs": [
    {
     "data": {
      "text/plain": [
       "'mill'"
      ]
     },
     "execution_count": 10,
     "metadata": {},
     "output_type": "execute_result"
    }
   ],
   "source": [
    "a[-5:-1]"
   ]
  },
  {
   "cell_type": "code",
   "execution_count": 11,
   "id": "2175646c",
   "metadata": {},
   "outputs": [
    {
     "data": {
      "text/plain": [
       "'milli'"
      ]
     },
     "execution_count": 11,
     "metadata": {},
     "output_type": "execute_result"
    }
   ],
   "source": [
    "a[-5:13]"
   ]
  },
  {
   "cell_type": "markdown",
   "id": "0962679f",
   "metadata": {},
   "source": [
    "# -String_methods"
   ]
  },
  {
   "cell_type": "code",
   "execution_count": 12,
   "id": "cf164135",
   "metadata": {},
   "outputs": [],
   "source": [
    "food = \"biryani\""
   ]
  },
  {
   "cell_type": "code",
   "execution_count": 13,
   "id": "26e56ab2",
   "metadata": {},
   "outputs": [
    {
     "data": {
      "text/plain": [
       "7"
      ]
     },
     "execution_count": 13,
     "metadata": {},
     "output_type": "execute_result"
    }
   ],
   "source": [
    "len(food)"
   ]
  },
  {
   "cell_type": "code",
   "execution_count": 14,
   "id": "10c95a47",
   "metadata": {},
   "outputs": [
    {
     "data": {
      "text/plain": [
       "'Biryani'"
      ]
     },
     "execution_count": 14,
     "metadata": {},
     "output_type": "execute_result"
    }
   ],
   "source": [
    "#Capitalizae first element\n",
    "food.capitalize()"
   ]
  },
  {
   "cell_type": "code",
   "execution_count": 15,
   "id": "b037442b",
   "metadata": {},
   "outputs": [
    {
     "data": {
      "text/plain": [
       "'BIRYANI'"
      ]
     },
     "execution_count": 15,
     "metadata": {},
     "output_type": "execute_result"
    }
   ],
   "source": [
    "#Converts all into into upper-case letters\n",
    "food.upper()"
   ]
  },
  {
   "cell_type": "code",
   "execution_count": 16,
   "id": "18ad1ad7",
   "metadata": {},
   "outputs": [
    {
     "data": {
      "text/plain": [
       "'biryani'"
      ]
     },
     "execution_count": 16,
     "metadata": {},
     "output_type": "execute_result"
    }
   ],
   "source": [
    "#Converts all into into lower-case letters\n",
    "food.lower()"
   ]
  },
  {
   "cell_type": "code",
   "execution_count": 17,
   "id": "e6b4fe34",
   "metadata": {},
   "outputs": [
    {
     "data": {
      "text/plain": [
       "'Shiryani'"
      ]
     },
     "execution_count": 17,
     "metadata": {},
     "output_type": "execute_result"
    }
   ],
   "source": [
    "#Replace\n",
    "food.replace('b', \"Sh\")"
   ]
  },
  {
   "cell_type": "code",
   "execution_count": 18,
   "id": "07a5ae65",
   "metadata": {},
   "outputs": [
    {
     "data": {
      "text/plain": [
       "'I am learning python with Dr. Ammar'"
      ]
     },
     "execution_count": 18,
     "metadata": {},
     "output_type": "execute_result"
    }
   ],
   "source": [
    "#Counting a specific alphabet in a string\n",
    "sent = \"I am learning python with Dr. Ammar\"\n",
    "sent"
   ]
  },
  {
   "cell_type": "code",
   "execution_count": 19,
   "id": "548ca2bd",
   "metadata": {},
   "outputs": [
    {
     "data": {
      "text/plain": [
       "3"
      ]
     },
     "execution_count": 19,
     "metadata": {},
     "output_type": "execute_result"
    }
   ],
   "source": [
    "sent.count(\"a\")"
   ]
  },
  {
   "cell_type": "markdown",
   "id": "ca43b622",
   "metadata": {},
   "source": [
    "**Finding an index number in string**"
   ]
  },
  {
   "cell_type": "code",
   "execution_count": 20,
   "id": "5d8903c7",
   "metadata": {},
   "outputs": [
    {
     "data": {
      "text/plain": [
       "'I am learning python with Dr. Ammar'"
      ]
     },
     "execution_count": 20,
     "metadata": {},
     "output_type": "execute_result"
    }
   ],
   "source": [
    "sent = \"I am learning python with Dr. Ammar\"\n",
    "sent"
   ]
  },
  {
   "cell_type": "code",
   "execution_count": 21,
   "id": "78e031b2",
   "metadata": {},
   "outputs": [
    {
     "data": {
      "text/plain": [
       "0"
      ]
     },
     "execution_count": 21,
     "metadata": {},
     "output_type": "execute_result"
    }
   ],
   "source": [
    "sent.find(\"I\")"
   ]
  },
  {
   "cell_type": "code",
   "execution_count": 22,
   "id": "cce15783",
   "metadata": {},
   "outputs": [],
   "source": [
    "# How to split a string?\n",
    "food = 'I wanna eat apple, banana, dates, and cherry'"
   ]
  },
  {
   "cell_type": "code",
   "execution_count": 23,
   "id": "24db5e66",
   "metadata": {},
   "outputs": [
    {
     "data": {
      "text/plain": [
       "['I wanna eat apple', ' banana', ' dates', ' and cherry']"
      ]
     },
     "execution_count": 23,
     "metadata": {},
     "output_type": "execute_result"
    }
   ],
   "source": [
    "food.split(\",\")"
   ]
  },
  {
   "cell_type": "markdown",
   "id": "48103565",
   "metadata": {},
   "source": [
    "---"
   ]
  },
  {
   "cell_type": "markdown",
   "id": "0f03a29a",
   "metadata": {},
   "source": [
    "# Data_Science_with_Professor_Ammar\n",
    "## Python\n",
    "### *Day_3b*"
   ]
  },
  {
   "cell_type": "markdown",
   "id": "27583e22",
   "metadata": {},
   "source": [
    "# Basic Data structures in python\n",
    "\n",
    "## 1-Tuple\n",
    "## 2-List\n",
    "## 3-Dictionaries\n",
    "## 4-Sets"
   ]
  },
  {
   "cell_type": "markdown",
   "id": "20ab6305",
   "metadata": {},
   "source": [
    "## 1- Tuple\n",
    "- Ordered collections of elements\n",
    "- Enclosed in round braces() or paranthesis\n",
    "- Different types of elements can b stored\n",
    "- Immutatable (Stored elements cannot be changed later)"
   ]
  },
  {
   "cell_type": "code",
   "execution_count": 24,
   "id": "9c40a443",
   "metadata": {},
   "outputs": [
    {
     "data": {
      "text/plain": [
       "(1, 'Mango', 2.5, True)"
      ]
     },
     "execution_count": 24,
     "metadata": {},
     "output_type": "execute_result"
    }
   ],
   "source": [
    "tup1 = (1, \"Mango\", 2.5, True)\n",
    "tup1"
   ]
  },
  {
   "cell_type": "code",
   "execution_count": 25,
   "id": "d9dda8f1",
   "metadata": {},
   "outputs": [
    {
     "data": {
      "text/plain": [
       "tuple"
      ]
     },
     "execution_count": 25,
     "metadata": {},
     "output_type": "execute_result"
    }
   ],
   "source": [
    "# Type of a tuple\n",
    "type(tup1)"
   ]
  },
  {
   "cell_type": "markdown",
   "id": "75b2a45a",
   "metadata": {},
   "source": [
    "### - Indexing in tuple"
   ]
  },
  {
   "cell_type": "code",
   "execution_count": 26,
   "id": "6907b3f6",
   "metadata": {},
   "outputs": [
    {
     "data": {
      "text/plain": [
       "'Mango'"
      ]
     },
     "execution_count": 26,
     "metadata": {},
     "output_type": "execute_result"
    }
   ],
   "source": [
    "tup1[1]"
   ]
  },
  {
   "cell_type": "code",
   "execution_count": 27,
   "id": "478b2ccf",
   "metadata": {},
   "outputs": [
    {
     "data": {
      "text/plain": [
       "2.5"
      ]
     },
     "execution_count": 27,
     "metadata": {},
     "output_type": "execute_result"
    }
   ],
   "source": [
    "tup1[2]"
   ]
  },
  {
   "cell_type": "code",
   "execution_count": 28,
   "id": "ff58af25",
   "metadata": {},
   "outputs": [
    {
     "name": "stdout",
     "output_type": "stream",
     "text": [
      "(1, 'Mango', 2.5)\n",
      "('Mango', 2.5)\n"
     ]
    }
   ],
   "source": [
    "# Last element is exclusive\n",
    "print(tup1[0:3])\n",
    "print(tup1[1:3])"
   ]
  },
  {
   "cell_type": "code",
   "execution_count": 29,
   "id": "c42903e0",
   "metadata": {},
   "outputs": [
    {
     "data": {
      "text/plain": [
       "4"
      ]
     },
     "execution_count": 29,
     "metadata": {},
     "output_type": "execute_result"
    }
   ],
   "source": [
    "#counting elements in tuple\n",
    "len(tup1)"
   ]
  },
  {
   "cell_type": "code",
   "execution_count": 30,
   "id": "b499dec2",
   "metadata": {},
   "outputs": [],
   "source": [
    "tup2 = (\"BabaG\", 2 , True, 1.1)"
   ]
  },
  {
   "cell_type": "code",
   "execution_count": 31,
   "id": "69d707ae",
   "metadata": {},
   "outputs": [
    {
     "data": {
      "text/plain": [
       "(1, 'Mango', 2.5, True, 'BabaG', 2, True, 1.1)"
      ]
     },
     "execution_count": 31,
     "metadata": {},
     "output_type": "execute_result"
    }
   ],
   "source": [
    "# Concatenation : Adding 2 or more tuples\n",
    "tup1 + tup2"
   ]
  },
  {
   "cell_type": "code",
   "execution_count": 32,
   "id": "8ac0abfe",
   "metadata": {},
   "outputs": [
    {
     "data": {
      "text/plain": [
       "(1, 'Mango', 2.5, True, 1, 'Mango', 2.5, True, 'BabaG', 2, True, 1.1)"
      ]
     },
     "execution_count": 32,
     "metadata": {},
     "output_type": "execute_result"
    }
   ],
   "source": [
    "tup1*2 + tup2"
   ]
  },
  {
   "cell_type": "code",
   "execution_count": 33,
   "id": "e119b5d5",
   "metadata": {},
   "outputs": [],
   "source": [
    "tup3 = (23, 20, 90, 98, 17, 71)"
   ]
  },
  {
   "cell_type": "code",
   "execution_count": 34,
   "id": "38477d9c",
   "metadata": {},
   "outputs": [
    {
     "data": {
      "text/plain": [
       "17"
      ]
     },
     "execution_count": 34,
     "metadata": {},
     "output_type": "execute_result"
    }
   ],
   "source": [
    "#minimum in a tuple\n",
    "min(tup3)"
   ]
  },
  {
   "cell_type": "code",
   "execution_count": 35,
   "id": "9c937dde",
   "metadata": {},
   "outputs": [
    {
     "data": {
      "text/plain": [
       "98"
      ]
     },
     "execution_count": 35,
     "metadata": {},
     "output_type": "execute_result"
    }
   ],
   "source": [
    "#maximum in a tuple\n",
    "max(tup3)"
   ]
  },
  {
   "cell_type": "code",
   "execution_count": 36,
   "id": "e70ac1c9",
   "metadata": {},
   "outputs": [
    {
     "data": {
      "text/plain": [
       "(23, 20, 90, 98, 17, 71, 23, 20, 90, 98, 17, 71)"
      ]
     },
     "execution_count": 36,
     "metadata": {},
     "output_type": "execute_result"
    }
   ],
   "source": [
    "tup3*2 #doubles the number of element\n",
    "#only multiplication operator can be applied at tuple"
   ]
  },
  {
   "cell_type": "code",
   "execution_count": 37,
   "id": "50426f02",
   "metadata": {},
   "outputs": [],
   "source": [
    "#tup3+2 #Error due to TypeError: can only concatenate tuple (not \"int\") to tuple"
   ]
  },
  {
   "cell_type": "markdown",
   "id": "bfa91a93",
   "metadata": {},
   "source": [
    "## 2- Lists\n",
    "- Ordered collections of elements\n",
    "- Enclosed in squre bracket/braces\n",
    "- Mutable, You can change the values"
   ]
  },
  {
   "cell_type": "code",
   "execution_count": 38,
   "id": "53f843e4",
   "metadata": {},
   "outputs": [],
   "source": [
    "list1 = [\"BabaG\", 1, True, 1.1]"
   ]
  },
  {
   "cell_type": "code",
   "execution_count": 39,
   "id": "50d57d0e",
   "metadata": {},
   "outputs": [
    {
     "data": {
      "text/plain": [
       "list"
      ]
     },
     "execution_count": 39,
     "metadata": {},
     "output_type": "execute_result"
    }
   ],
   "source": [
    "type(list1)"
   ]
  },
  {
   "cell_type": "code",
   "execution_count": 40,
   "id": "a336db51",
   "metadata": {},
   "outputs": [
    {
     "data": {
      "text/plain": [
       "4"
      ]
     },
     "execution_count": 40,
     "metadata": {},
     "output_type": "execute_result"
    }
   ],
   "source": [
    "len(list1)"
   ]
  },
  {
   "cell_type": "code",
   "execution_count": 41,
   "id": "f822cbfe",
   "metadata": {},
   "outputs": [
    {
     "data": {
      "text/plain": [
       "True"
      ]
     },
     "execution_count": 41,
     "metadata": {},
     "output_type": "execute_result"
    }
   ],
   "source": [
    "list1[2]"
   ]
  },
  {
   "cell_type": "code",
   "execution_count": 42,
   "id": "6c7d2e84",
   "metadata": {},
   "outputs": [
    {
     "data": {
      "text/plain": [
       "1.1"
      ]
     },
     "execution_count": 42,
     "metadata": {},
     "output_type": "execute_result"
    }
   ],
   "source": [
    "list1[3]"
   ]
  },
  {
   "cell_type": "code",
   "execution_count": 43,
   "id": "9468ab1b",
   "metadata": {},
   "outputs": [],
   "source": [
    "list2 = [2,1, \"BabaG\", \"light\", 5.5, True]"
   ]
  },
  {
   "cell_type": "code",
   "execution_count": 44,
   "id": "994293c3",
   "metadata": {},
   "outputs": [
    {
     "data": {
      "text/plain": [
       "['BabaG', 1, True, 1.1, 2, 1, 'BabaG', 'light', 5.5, True]"
      ]
     },
     "execution_count": 44,
     "metadata": {},
     "output_type": "execute_result"
    }
   ],
   "source": [
    "list1 + list2"
   ]
  },
  {
   "cell_type": "code",
   "execution_count": 45,
   "id": "1f2b164e",
   "metadata": {},
   "outputs": [
    {
     "data": {
      "text/plain": [
       "['BabaG', 1, True, 1.1, 'BabaG', 1, True, 1.1]"
      ]
     },
     "execution_count": 45,
     "metadata": {},
     "output_type": "execute_result"
    }
   ],
   "source": [
    "list1*2"
   ]
  },
  {
   "cell_type": "code",
   "execution_count": 46,
   "id": "3be4bce7",
   "metadata": {},
   "outputs": [
    {
     "data": {
      "text/plain": [
       "[1.1, True, 1, 'BabaG']"
      ]
     },
     "execution_count": 46,
     "metadata": {},
     "output_type": "execute_result"
    }
   ],
   "source": [
    "list1.reverse() #The reverse() method reverses the elements of the list.\n",
    "list1"
   ]
  },
  {
   "cell_type": "code",
   "execution_count": 47,
   "id": "62648e3a",
   "metadata": {},
   "outputs": [
    {
     "data": {
      "text/plain": [
       "[1.1, True, 1, 'BabaG', 'Codanics']"
      ]
     },
     "execution_count": 47,
     "metadata": {},
     "output_type": "execute_result"
    }
   ],
   "source": [
    "list1.append(\"Codanics\") #The append() method adds an item to the end of the list.\n",
    "list1"
   ]
  },
  {
   "cell_type": "code",
   "execution_count": 48,
   "id": "d5a01b75",
   "metadata": {
    "scrolled": true
   },
   "outputs": [
    {
     "data": {
      "text/plain": [
       "2"
      ]
     },
     "execution_count": 48,
     "metadata": {},
     "output_type": "execute_result"
    }
   ],
   "source": [
    "list1.count(1) #The count() method returns the number of times the specified element appears in the list."
   ]
  },
  {
   "cell_type": "code",
   "execution_count": 49,
   "id": "b92dca63",
   "metadata": {},
   "outputs": [
    {
     "data": {
      "text/plain": [
       "[2, 3, 2, 77, 76, 7, 8, 9, 3, 6, 5, 4, 7]"
      ]
     },
     "execution_count": 49,
     "metadata": {},
     "output_type": "execute_result"
    }
   ],
   "source": [
    "list3 = [2,3,2,77,76,7,8,9,3,6,5,4,7]\n",
    "list3"
   ]
  },
  {
   "cell_type": "code",
   "execution_count": 50,
   "id": "034e4fd4",
   "metadata": {},
   "outputs": [
    {
     "data": {
      "text/plain": [
       "13"
      ]
     },
     "execution_count": 50,
     "metadata": {},
     "output_type": "execute_result"
    }
   ],
   "source": [
    "len(list3)"
   ]
  },
  {
   "cell_type": "code",
   "execution_count": 51,
   "id": "a00be4cc",
   "metadata": {
    "scrolled": true
   },
   "outputs": [
    {
     "data": {
      "text/plain": [
       "[2, 2, 3, 3, 4, 5, 6, 7, 7, 8, 9, 76, 77]"
      ]
     },
     "execution_count": 51,
     "metadata": {},
     "output_type": "execute_result"
    }
   ],
   "source": [
    "list3.sort() #The sort() method sorts the elements of a given list in a specific ascending or descending order.\n",
    "list3"
   ]
  },
  {
   "cell_type": "code",
   "execution_count": 52,
   "id": "a1798023",
   "metadata": {},
   "outputs": [
    {
     "data": {
      "text/plain": [
       "[2,\n",
       " 2,\n",
       " 3,\n",
       " 3,\n",
       " 4,\n",
       " 5,\n",
       " 6,\n",
       " 7,\n",
       " 7,\n",
       " 8,\n",
       " 9,\n",
       " 76,\n",
       " 77,\n",
       " 2,\n",
       " 2,\n",
       " 3,\n",
       " 3,\n",
       " 4,\n",
       " 5,\n",
       " 6,\n",
       " 7,\n",
       " 7,\n",
       " 8,\n",
       " 9,\n",
       " 76,\n",
       " 77]"
      ]
     },
     "execution_count": 52,
     "metadata": {},
     "output_type": "execute_result"
    }
   ],
   "source": [
    "list3*2"
   ]
  },
  {
   "cell_type": "code",
   "execution_count": 53,
   "id": "9b4c5a60",
   "metadata": {},
   "outputs": [
    {
     "data": {
      "text/plain": [
       "[1.1, True, 1, 'BabaG', 'Codanics', 2, 1, 'BabaG', 'light', 5.5, True]"
      ]
     },
     "execution_count": 53,
     "metadata": {},
     "output_type": "execute_result"
    }
   ],
   "source": [
    "list1 + list2"
   ]
  },
  {
   "cell_type": "code",
   "execution_count": 54,
   "id": "b9733790",
   "metadata": {},
   "outputs": [],
   "source": [
    "lists = list1 + list2 + list3"
   ]
  },
  {
   "cell_type": "markdown",
   "id": "035c2242",
   "metadata": {},
   "source": [
    "## 3- Dictionaries\n",
    "- Any unordered collection of elements\n",
    "- Key and Values\n",
    "- Enclosed in curly braces or brackets {}\n",
    "- Mutatable; We can change the valued of it's elements anytime"
   ]
  },
  {
   "cell_type": "code",
   "execution_count": 55,
   "id": "d24d13bc",
   "metadata": {},
   "outputs": [
    {
     "data": {
      "text/plain": [
       "{'Samosa': 30, 'Pakorda': 10, 'Salad': 20, 'Chicken Roles': 60}"
      ]
     },
     "execution_count": 55,
     "metadata": {},
     "output_type": "execute_result"
    }
   ],
   "source": [
    "#Food and their prices\n",
    "menu1 = {\"Samosa\": 30, \"Pakorda\": 10, \"Salad\": 20, \"Chicken Roles\": 60}\n",
    "menu1"
   ]
  },
  {
   "cell_type": "code",
   "execution_count": 56,
   "id": "eaa83f30",
   "metadata": {},
   "outputs": [
    {
     "data": {
      "text/plain": [
       "dict"
      ]
     },
     "execution_count": 56,
     "metadata": {},
     "output_type": "execute_result"
    }
   ],
   "source": [
    "type(menu1)"
   ]
  },
  {
   "cell_type": "code",
   "execution_count": 57,
   "id": "c17fece4",
   "metadata": {},
   "outputs": [
    {
     "data": {
      "text/plain": [
       "dict_keys(['Samosa', 'Pakorda', 'Salad', 'Chicken Roles'])"
      ]
     },
     "execution_count": 57,
     "metadata": {},
     "output_type": "execute_result"
    }
   ],
   "source": [
    "#extracting data\n",
    "keys1 = menu1.keys()\n",
    "keys1"
   ]
  },
  {
   "cell_type": "code",
   "execution_count": 58,
   "id": "9f0b3a97",
   "metadata": {},
   "outputs": [
    {
     "data": {
      "text/plain": [
       "dict_keys(['Samosa', 'Pakorda', 'Salad', 'Chicken Roles'])"
      ]
     },
     "execution_count": 58,
     "metadata": {},
     "output_type": "execute_result"
    }
   ],
   "source": [
    "#extracting data\n",
    "values1 = menu1.keys()\n",
    "values1"
   ]
  },
  {
   "cell_type": "code",
   "execution_count": 59,
   "id": "11546f7e",
   "metadata": {},
   "outputs": [
    {
     "data": {
      "text/plain": [
       "{'Samosa': 30, 'Pakorda': 10, 'Salad': 20, 'Chicken Roles': 60, 'Chatni': 10}"
      ]
     },
     "execution_count": 59,
     "metadata": {},
     "output_type": "execute_result"
    }
   ],
   "source": [
    "#Adding new element\n",
    "menu1[\"Chatni\"] = 10\n",
    "menu1"
   ]
  },
  {
   "cell_type": "code",
   "execution_count": 60,
   "id": "f063e6f3",
   "metadata": {},
   "outputs": [
    {
     "data": {
      "text/plain": [
       "{'Samosa': 30, 'Pakorda': 10, 'Salad': 20, 'Chicken Roles': 60, 'Chatni': 20}"
      ]
     },
     "execution_count": 60,
     "metadata": {},
     "output_type": "execute_result"
    }
   ],
   "source": [
    "#Update the values\n",
    "menu1[\"Chatni\"] = 20\n",
    "menu1"
   ]
  },
  {
   "cell_type": "code",
   "execution_count": 61,
   "id": "9f76dccf",
   "metadata": {},
   "outputs": [
    {
     "data": {
      "text/plain": [
       "{'dates': 50, 'Chocolates': 100, 'Sphaghettis': 50}"
      ]
     },
     "execution_count": 61,
     "metadata": {},
     "output_type": "execute_result"
    }
   ],
   "source": [
    "food2 = {\"dates\":50, \"Chocolates\":100, \"Sphaghettis\":50}\n",
    "food2"
   ]
  },
  {
   "cell_type": "code",
   "execution_count": 62,
   "id": "71fa1af8",
   "metadata": {},
   "outputs": [
    {
     "data": {
      "text/plain": [
       "{'Samosa': 30,\n",
       " 'Pakorda': 10,\n",
       " 'Salad': 20,\n",
       " 'Chicken Roles': 60,\n",
       " 'Chatni': 20,\n",
       " 'dates': 50,\n",
       " 'Chocolates': 100,\n",
       " 'Sphaghettis': 50}"
      ]
     },
     "execution_count": 62,
     "metadata": {},
     "output_type": "execute_result"
    }
   ],
   "source": [
    "#Concatination\n",
    "menu1.update(food2)\n",
    "menu1"
   ]
  },
  {
   "cell_type": "markdown",
   "id": "ac1e81c5",
   "metadata": {},
   "source": [
    "## 4- Sets\n",
    "- Unordered and unindexed\n",
    "- curly braces are used\n",
    "- No duplicates are allowed"
   ]
  },
  {
   "cell_type": "code",
   "execution_count": 63,
   "id": "88abf1c7",
   "metadata": {},
   "outputs": [
    {
     "data": {
      "text/plain": [
       "{2, 5, 'AmmarBabaG', 'Codanics', 'FaislaAbad', True}"
      ]
     },
     "execution_count": 63,
     "metadata": {},
     "output_type": "execute_result"
    }
   ],
   "source": [
    "s1 = {2, 5, True, \"FaislaAbad\", \"Ammar\" \"BabaG\", \"Codanics\" }\n",
    "s1"
   ]
  },
  {
   "cell_type": "code",
   "execution_count": 64,
   "id": "afeafe33",
   "metadata": {},
   "outputs": [
    {
     "data": {
      "text/plain": [
       "set"
      ]
     },
     "execution_count": 64,
     "metadata": {},
     "output_type": "execute_result"
    }
   ],
   "source": [
    "type(s1)"
   ]
  },
  {
   "cell_type": "code",
   "execution_count": 65,
   "id": "9e6027ed",
   "metadata": {},
   "outputs": [
    {
     "data": {
      "text/plain": [
       "{2, 5, 'Ammar1', 'AmmarBabaG', 'Codanics', 'FaislaAbad', True}"
      ]
     },
     "execution_count": 65,
     "metadata": {},
     "output_type": "execute_result"
    }
   ],
   "source": [
    "#Adding new element in sets\n",
    "s1.add(\"Ammar1\")\n",
    "s1"
   ]
  },
  {
   "cell_type": "code",
   "execution_count": 66,
   "id": "786a8811",
   "metadata": {},
   "outputs": [
    {
     "data": {
      "text/plain": [
       "{2, 5, 'AmmarBabaG', 'Codanics', 'FaislaAbad', True}"
      ]
     },
     "execution_count": 66,
     "metadata": {},
     "output_type": "execute_result"
    }
   ],
   "source": [
    "#Removing some elements from the sets\n",
    "s1.remove(\"Ammar1\")\n",
    "s1"
   ]
  }
 ],
 "metadata": {
  "kernelspec": {
   "display_name": "Python 3 (ipykernel)",
   "language": "python",
   "name": "python3"
  },
  "language_info": {
   "codemirror_mode": {
    "name": "ipython",
    "version": 3
   },
   "file_extension": ".py",
   "mimetype": "text/x-python",
   "name": "python",
   "nbconvert_exporter": "python",
   "pygments_lexer": "ipython3",
   "version": "3.9.7"
  }
 },
 "nbformat": 4,
 "nbformat_minor": 5
}
